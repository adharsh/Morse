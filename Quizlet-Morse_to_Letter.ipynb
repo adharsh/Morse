{
 "cells": [
  {
   "cell_type": "code",
   "execution_count": null,
   "metadata": {},
   "outputs": [],
   "source": [
    "from random import randint\n",
    "from IPython.display import clear_output\n",
    "from IPython.display import Image\n",
    "from IPython.display import display\n",
    "import copy\n",
    "\n",
    "alphabet = \"A B C D E F G H I J K L M N O P Q R S T U V W X Y Z\";\n",
    "morse_str = \".- / -... / -.-. / -.. / . / ..-. / --. / .... / .. / .--- / -.- / .-.. / -- / -. / --- / .--. / --.- / .-. / ... / - / ..- / ...- / .-- / -..- / -.-- / --..\"\n",
    "morse_lst = morse_str.replace('/','')\n",
    "a_letters = alphabet.split()\n",
    "m_letters = morse_lst.split()\n",
    "morse = dict(zip(m_letters, a_letters))\n",
    "\n",
    "def remaining(correct, wrong):\n",
    "    print(\"Correct: \" + ' '.join(correct))\n",
    "    print(\"Remaining: \" + ' '.join(wrong))\n",
    "    \n",
    "    \n",
    "correct = []\n",
    "wrong = copy.deepcopy(m_letters)\n",
    "\n",
    "while(len(wrong) != 0):\n",
    "    remaining(correct, wrong)\n",
    "    m_letter = wrong[randint(0, len(wrong)-1)]\n",
    "    a_letter = morse[m_letter]\n",
    "    print(\"\\nGuess Morse: \" + m_letter)\n",
    "    guess = input()\n",
    "    print()\n",
    "    if(guess.upper() == a_letter):\n",
    "        print(\"Correct\")\n",
    "        correct.append(m_letter)\n",
    "        wrong.remove(m_letter)\n",
    "    else:\n",
    "        clear_output()\n",
    "        display(Image(filename=(\"images/\"+a_letter+\".png\")))\n",
    "        print(\"Please Try Again: \", m_letter)\n",
    "        guess = input()\n",
    "    clear_output()\n",
    "print(\"Congrats!\")"
   ]
  }
 ],
 "metadata": {
  "kernelspec": {
   "display_name": "Python 3",
   "language": "python",
   "name": "python3"
  },
  "language_info": {
   "codemirror_mode": {
    "name": "ipython",
    "version": 3
   },
   "file_extension": ".py",
   "mimetype": "text/x-python",
   "name": "python",
   "nbconvert_exporter": "python",
   "pygments_lexer": "ipython3",
   "version": "3.7.0"
  }
 },
 "nbformat": 4,
 "nbformat_minor": 2
}
